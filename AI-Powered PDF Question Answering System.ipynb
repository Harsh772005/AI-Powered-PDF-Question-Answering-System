{
 "cells": [
  {
   "cell_type": "code",
   "execution_count": 33,
   "id": "f189edf2-8ec3-49ec-b92d-b5d98e44d871",
   "metadata": {},
   "outputs": [],
   "source": [
    "import warnings\n",
    "warnings.filterwarnings('ignore')\n",
    "from langchain_google_genai import ChatGoogleGenerativeAI\n",
    "from langchain_google_genai import GoogleGenerativeAI"
   ]
  },
  {
   "cell_type": "code",
   "execution_count": null,
   "id": "978d60e1-21e8-4db7-b665-98b61baa2afb",
   "metadata": {},
   "outputs": [],
   "source": [
    "GOOGLE_API_KEY=\"YOUR_API_KEY\""
   ]
  },
  {
   "cell_type": "code",
   "execution_count": 37,
   "id": "80e4a223-4f77-40a3-8565-540861ad1abb",
   "metadata": {},
   "outputs": [],
   "source": [
    "import getpass\n",
    "import os\n",
    "if 'GOOGLE_API_KEY' not in os.environ:\n",
    "    os.environ['GOOGLE_API_KEY'] = getpass.getpass(\"Provide your Google API Key:\")"
   ]
  },
  {
   "cell_type": "code",
   "execution_count": 39,
   "id": "7c4cb2a6-b63c-4b27-b0ec-33d69e9279a2",
   "metadata": {},
   "outputs": [
    {
     "name": "stdout",
     "output_type": "stream",
     "text": [
      "**Ingredients:**\n",
      "\n",
      "**For the batter:**\n",
      "\n",
      "* 1 cup urad dal (black lentils)\n",
      "* 1 cup husked rice\n",
      "* 1/4 cup fenugreek seeds\n",
      "* 2 tablespoons salt\n",
      "* Water, as needed\n",
      "\n",
      "**For the filling:**\n",
      "\n",
      "* Vegetable oil, for greasing the pan\n",
      "* 1 cup grated potatoes\n",
      "* 1/2 cup chopped onions\n",
      "* 1/2 cup chopped tomatoes\n",
      "* 1/4 cup chopped green chilies\n",
      "* 1 teaspoon ginger-garlic paste\n",
      "* 1 teaspoon red chili powder\n",
      "* 1/2 teaspoon turmeric powder\n",
      "* Salt to taste\n",
      "\n",
      "**Instructions:**\n",
      "\n",
      "**For the batter:**\n",
      "\n",
      "1. Soak the urad dal, rice, and fenugreek seeds in water overnight.\n",
      "2. Drain the water and grind the soaked ingredients into a smooth paste using a blender or food processor.\n",
      "3. Add salt to the batter and mix well.\n",
      "4. Allow the batter to ferment for 8-12 hours in a warm place.\n",
      "\n",
      "**For the filling:**\n",
      "\n",
      "1. Heat the oil in a pan over medium heat.\n",
      "2. Add the potatoes and fry until golden brown.\n",
      "3. Add the onions, tomatoes, green chilies, ginger-garlic paste, red chili powder, turmeric powder, and salt.\n",
      "4. Cook until the vegetables are soft and the mixture is dry.\n",
      "\n",
      "**To make the dosa:**\n",
      "\n",
      "1. Heat a non-stick skillet or griddle over medium heat.\n",
      "2. Grease the skillet with oil.\n",
      "3. Pour a ladleful of batter into the center of the skillet and spread it out thinly into a circular shape.\n",
      "4. Cook for 2-3 minutes, or until the edges are golden brown.\n",
      "5. Flip the dosa and cook for another 1-2 minutes, or until the other side is golden brown.\n",
      "6. Remove the dosa from the skillet and place it on a plate.\n",
      "7. Spread the filling evenly over the dosa.\n",
      "8. Fold the dosa in half and serve hot.\n",
      "\n",
      "**Tips:**\n",
      "\n",
      "* For a crispy dosa, use a well-fermented batter.\n",
      "* If the batter is too thick, add water to thin it out. If it is too thin, add rice flour to thicken it.\n",
      "* Adjust the spices in the filling to your taste.\n",
      "* You can also add other ingredients to the filling, such as shredded chicken, paneer, or vegetables.\n"
     ]
    }
   ],
   "source": [
    "llm = GoogleGenerativeAI(model='gemini-pro', temperature=0.7)\n",
    "\n",
    "response = llm(\"write a rceipe of dosa!\")\n",
    "print(response)"
   ]
  },
  {
   "cell_type": "code",
   "execution_count": 51,
   "id": "44475055-319b-45bd-9cae-8a49b35d3792",
   "metadata": {},
   "outputs": [],
   "source": [
    "# !pip install PyPDFLoader\n",
    "# !pip install HuggingFaceEmbeddings"
   ]
  },
  {
   "cell_type": "code",
   "execution_count": 55,
   "id": "2d0968c3-f85d-4c16-b4d0-18c07f7a3549",
   "metadata": {},
   "outputs": [],
   "source": [
    "from langchain_google_genai import ChatGoogleGenerativeAI\n",
    "from langchain_google_genai import GoogleGenerativeAI"
   ]
  },
  {
   "cell_type": "code",
   "execution_count": null,
   "id": "ac51ec29-ae17-4ab5-93a9-9993cd9775a2",
   "metadata": {},
   "outputs": [],
   "source": [
    "GOOGLE_API_KEY=\"YOUR_API_KEY\""
   ]
  },
  {
   "cell_type": "code",
   "execution_count": 59,
   "id": "7198ee5f-a3d5-4c1e-9a2c-156994b84d70",
   "metadata": {},
   "outputs": [],
   "source": [
    "import getpass\n",
    "import os\n",
    "if 'GOOGLE_API_KEY' not in os.environ:\n",
    "    os.environ['GOOGLE_API_KEY'] = getpass.getpass(\"Provide your Google API Key:\")"
   ]
  },
  {
   "cell_type": "code",
   "execution_count": 61,
   "id": "7a694ce3-ed8f-457d-9cb3-6699083a861c",
   "metadata": {},
   "outputs": [],
   "source": [
    "\n",
    "llm = ChatGoogleGenerativeAI(model='gemini-pro', temperature=0.7)"
   ]
  },
  {
   "cell_type": "code",
   "execution_count": 77,
   "id": "dd394ddd-e61d-44ed-8dd4-61eec748ced7",
   "metadata": {},
   "outputs": [],
   "source": [
    "from langchain_community.document_loaders import PyPDFLoader\n",
    "\n",
    "pdfLoader = PyPDFLoader(r\"C:\\Users\\Harsh Bhanushali\\OneDrive - Charotar University\\Pictures\\aayush.pdf\")\n",
    "\n",
    "pdf_pages = pdfLoader.load_and_split()\n"
   ]
  },
  {
   "cell_type": "code",
   "execution_count": 75,
   "id": "f9f1353e-a002-4d74-b080-5f475ecfe107",
   "metadata": {},
   "outputs": [
    {
     "name": "stdout",
     "output_type": "stream",
     "text": [
      "Collecting pypdf\n",
      "  Downloading pypdf-5.0.0-py3-none-any.whl.metadata (7.4 kB)\n",
      "Downloading pypdf-5.0.0-py3-none-any.whl (292 kB)\n",
      "   ---------------------------------------- 0.0/292.8 kB ? eta -:--:--\n",
      "   ---------------------------------------- 0.0/292.8 kB ? eta -:--:--\n",
      "   ---------------------------------------- 0.0/292.8 kB ? eta -:--:--\n",
      "   - -------------------------------------- 10.2/292.8 kB ? eta -:--:--\n",
      "   ----- --------------------------------- 41.0/292.8 kB 393.8 kB/s eta 0:00:01\n",
      "   -------------- ----------------------- 112.6/292.8 kB 731.4 kB/s eta 0:00:01\n",
      "   --------------------------------- ------ 245.8/292.8 kB 1.4 MB/s eta 0:00:01\n",
      "   ---------------------------------------- 292.8/292.8 kB 1.4 MB/s eta 0:00:00\n",
      "Installing collected packages: pypdf\n",
      "Successfully installed pypdf-5.0.0\n"
     ]
    }
   ],
   "source": [
    "# !pip install -U langchain_community\n",
    "# !pip install pypdf"
   ]
  },
  {
   "cell_type": "code",
   "execution_count": 81,
   "id": "eed82a54-2c76-439d-b96e-785a423ef5f9",
   "metadata": {},
   "outputs": [],
   "source": [
    "from langchain.text_splitter import RecursiveCharacterTextSplitter\n",
    "from langchain_community.vectorstores import FAISS\n",
    "from langchain.embeddings import HuggingFaceEmbeddings"
   ]
  },
  {
   "cell_type": "code",
   "execution_count": 83,
   "id": "dcdd4516-ba67-4820-a756-9e1f8288af5e",
   "metadata": {},
   "outputs": [],
   "source": [
    "mydocuments = pdfLoader.load()\n",
    "text_splitter = RecursiveCharacterTextSplitter(chunk_size = 300, chunk_overlap = 100)\n",
    "texts = text_splitter.split_documents(mydocuments)"
   ]
  },
  {
   "cell_type": "code",
   "execution_count": 85,
   "id": "af6dec29-3236-4c51-8f0e-26fc53e6cea6",
   "metadata": {},
   "outputs": [
    {
     "data": {
      "text/plain": [
       "33"
      ]
     },
     "execution_count": 85,
     "metadata": {},
     "output_type": "execute_result"
    }
   ],
   "source": [
    "len(texts)"
   ]
  },
  {
   "cell_type": "code",
   "execution_count": 97,
   "id": "203a47ee-9921-4a36-af59-c7d458b49cf1",
   "metadata": {},
   "outputs": [],
   "source": [
    "embeddings = HuggingFaceEmbeddings(model_name = 'sentence-transformers/all-mpnet-base-v2')"
   ]
  },
  {
   "cell_type": "code",
   "execution_count": 99,
   "id": "06aaf46a-a3d5-4565-9f96-6216170154db",
   "metadata": {},
   "outputs": [],
   "source": [
    "# !pip install sentence-transformers"
   ]
  },
  {
   "cell_type": "code",
   "execution_count": 111,
   "id": "93304fe5-45c5-4f4c-b36b-b5673414afea",
   "metadata": {},
   "outputs": [],
   "source": [
    "vectordb = FAISS.from_documents(documents=texts, embedding=embeddings)"
   ]
  },
  {
   "cell_type": "code",
   "execution_count": 112,
   "id": "2567bbef-c43c-40e2-a405-728600e4ef0e",
   "metadata": {},
   "outputs": [
    {
     "name": "stdout",
     "output_type": "stream",
     "text": [
      "Number of vectors in the FAISS index: 33\n",
      "\n",
      "Size of each vector: 768 dimensions\n"
     ]
    }
   ],
   "source": [
    "vector_count = vectordb.index.ntotal\n",
    "print(f\"Number of vectors in the FAISS index: {vector_count}\\n\")\n",
    "vector_size = vectordb.index.d\n",
    "print(f\"Size of each vector: {vector_size} dimensions\")\n"
   ]
  },
  {
   "cell_type": "code",
   "execution_count": 109,
   "id": "a941d608-c210-4df9-8271-cfb977fc7a4b",
   "metadata": {},
   "outputs": [],
   "source": [
    "# !pip install faiss-cpu"
   ]
  },
  {
   "cell_type": "code",
   "execution_count": 115,
   "id": "c6b070be-c39b-44b0-b8d7-d4ec719c99ac",
   "metadata": {},
   "outputs": [],
   "source": [
    "\n",
    "retriever = vectordb.as_retriever(search_kwargs={'k': 5})"
   ]
  },
  {
   "cell_type": "code",
   "execution_count": 117,
   "id": "005a4209-39d9-4099-aea0-44b9a67ed8d6",
   "metadata": {},
   "outputs": [],
   "source": [
    "from langchain.prompts import PromptTemplate\n",
    "from langchain.chains import RetrievalQA"
   ]
  },
  {
   "cell_type": "code",
   "execution_count": 125,
   "id": "86317ad0-43f2-4adf-9bbe-34866adb947f",
   "metadata": {},
   "outputs": [],
   "source": [
    "prompt_template = \"\"\"You are hepful assiatant to answer the question with the context without making much changes.\n",
    "If the answer is not found in the context, kindly state \"I don't know.\" Don't try to make up an answer.\n",
    "\n",
    "CONTEXT: {context}\n",
    "\n",
    "QUESTION: {question}\"\"\"\n",
    "\n",
    "\n",
    "PROMPT = PromptTemplate(\n",
    "    template=prompt_template, input_variables=[\"context\", \"question\"]\n",
    ")\n",
    "chain_type_kwargs = {\"prompt\": PROMPT}\n",
    "\n"
   ]
  },
  {
   "cell_type": "code",
   "execution_count": 131,
   "id": "4aff6e18-4608-414c-a03a-0aff285e89a7",
   "metadata": {},
   "outputs": [],
   "source": [
    "\n",
    "chain = RetrievalQA.from_chain_type(llm=llm,\n",
    "                            chain_type=\"stuff\",\n",
    "                            retriever=retriever,\n",
    "                            input_key=\"query\",\n",
    "                            return_source_documents=False,\n",
    "                            chain_type_kwargs=chain_type_kwargs)\n",
    "                            \n"
   ]
  },
  {
   "cell_type": "code",
   "execution_count": 133,
   "id": "7a227d4f-c097-474d-acfb-847db5b8ff71",
   "metadata": {},
   "outputs": [
    {
     "name": "stdout",
     "output_type": "stream",
     "text": [
      "Aayush R. Kotak\n"
     ]
    }
   ],
   "source": [
    "                            \n",
    "result = chain(\"What is Student Name ??\")\n",
    "print(result['result'])"
   ]
  },
  {
   "cell_type": "code",
   "execution_count": null,
   "id": "aeb9024a-afb1-4892-a98d-3907c51c7b7c",
   "metadata": {},
   "outputs": [],
   "source": []
  }
 ],
 "metadata": {
  "kernelspec": {
   "display_name": "Python 3 (ipykernel)",
   "language": "python",
   "name": "python3"
  },
  "language_info": {
   "codemirror_mode": {
    "name": "ipython",
    "version": 3
   },
   "file_extension": ".py",
   "mimetype": "text/x-python",
   "name": "python",
   "nbconvert_exporter": "python",
   "pygments_lexer": "ipython3",
   "version": "3.11.7"
  }
 },
 "nbformat": 4,
 "nbformat_minor": 5
}
